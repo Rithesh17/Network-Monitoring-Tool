{
 "cells": [
  {
   "cell_type": "code",
   "execution_count": 2,
   "metadata": {
    "colab": {
     "autoexec": {
      "startup": false,
      "wait_interval": 0
     }
    },
    "colab_type": "code",
    "id": "xN-L1Edq75Ne"
   },
   "outputs": [],
   "source": [
    "import numpy as np\n",
    "import numpy.random\n",
    "\n",
    "class ParticleSwarmOptimiser:\n",
    "    def __init__(self, n_net, chi=0.73, p_phi=2, g_phi=2):\n",
    "        self.n_net = n_net;\n",
    "        \n",
    "        self.chi = chi;\n",
    "        self.p_phi = p_phi;\n",
    "        self.g_phi = g_phi;\n",
    "        \n",
    "        self.pos = [];\n",
    "        for i in range(0, len(n_net)):\n",
    "            self.pos.append(n_net[i].getPosition());\n",
    "        \n",
    "        self.vel = np.random.uniform(size=(len(n_net), len(n_net[0].getPosition())));\n",
    "        \n",
    "        self.p_best = self.pos.copy();\n",
    "        \n",
    "        self.fit=[];\n",
    "        for i in range(0, len(n_net)):\n",
    "            self.fit.append(n_net[i].cost());\n",
    "            \n",
    "        self.g_best = self.p_best[self.fit.argmin()];\n",
    "        self.best_fit = self.fit.min();\n",
    "        \n",
    "    def swarm_improve(self):\n",
    "        p_random = np.random.uniform(size=(self.popn, self.dim));\n",
    "        g_random = np.random.uniform(size=(self.popn, self.dim));\n",
    "        \n",
    "        self.vel = self.chi * (self.vel + self.p_phi * p_random * (self.p_best - self.pos)\\\n",
    "                               + self.g_phi * g_random * (self.g_best - self.pos));\n",
    "        \n",
    "        self.pos = self.pos + self.vel;\n",
    "        \n",
    "        nn = NeuralNetwork(n_net[0].nodes);\n",
    "        for i in range(0, len(n_net)):\n",
    "            nn.setPosition(self.pos[i]);\n",
    "            curr_fit = nn.cost();\n",
    "            if cuur_fit < self.fit[i]:\n",
    "                self.p_best[i] = self.pos[i];\n",
    "                self.fit[i] = curr_fit;\n",
    "            \n",
    "        self.g_best = self.p_best[self.fit.argmin()];\n",
    "        self.best_fit = self.fit.min();\n",
    "    \n",
    "    def optimise(self, tol=0.0001, max_iter=500):\n",
    "        iterate = 0;\n",
    "        while self.best_fit > tol and iterate < max_iter:\n",
    "            self.swarm_improve();\n",
    "            iterate = iterate + 1;"
   ]
  },
  {
   "cell_type": "code",
   "execution_count": 1,
   "metadata": {
    "colab": {
     "autoexec": {
      "startup": false,
      "wait_interval": 0
     }
    },
    "colab_type": "code",
    "id": "VGiY9IyQ75Nq"
   },
   "outputs": [],
   "source": [
    "import numpy as np;\n",
    "import numpy.random;\n",
    "import sklearn.metrics;\n",
    "\n",
    "class NeuralNetwork:\n",
    "    def __init__(self, nodes, weights=None):\n",
    "        self.nodes = nodes;\n",
    "        if weights==None:\n",
    "            self.weights=[];\n",
    "            for i in range(0,len(nodes)-1):\n",
    "                self.weights.append(np.random.uniform(size=(nodes[i]+1, nodes[i+1])));\n",
    "        else:\n",
    "            self.weights = weights;\n",
    "            \n",
    "    def propagate(self, input_data):\n",
    "        level = np.input_data.T;\n",
    "        \n",
    "        for i in range(0, len(self.nodes)-1):\n",
    "            hypo = np.dot(self.weights[i], np.insert(layer, 0, 1, 0));\n",
    "            level = 1/(1+np.exp(-hypo));\n",
    "        return level;\n",
    "    \n",
    "    def setData(self, total_input_data, total_output_data):\n",
    "        self.ip = total_input_data;\n",
    "        self.op = total_output_data;\n",
    "    \n",
    "    def cost(self):\n",
    "        cost_val = 0;\n",
    "        for i in range(0, len(self.ip)):\n",
    "            exp_output = self.propagate(self.ip[i]);\n",
    "            cost_val = cost_val + sklearn.metrics.mean_squared_error(self.ip[i], exp_output);\n",
    "        return cost_val;\n",
    "    \n",
    "    def setPosition(self, pos):\n",
    "        p = 0;\n",
    "        for i in range(0, len(nodes)-1):\n",
    "            for j in range(0, nodes[i]+1):\n",
    "                for k in range(0, nodes[i+1]):\n",
    "                    self.weights[i][j][k] = pos[p].copy();\n",
    "                    p=p+1;\n",
    "        \n",
    "    \n",
    "    def getPosition(self):\n",
    "        pos = [];\n",
    "        for i in range(0, len(nodes)-1):\n",
    "            for j in range(0, nodes[i]+1):\n",
    "                for k in range(0, nodes[i+1]):\n",
    "                    pos.append(self.weights[i][j][k]);\n",
    "        \n",
    "        return pos;"
   ]
  },
  {
   "cell_type": "code",
   "execution_count": null,
   "metadata": {
    "colab": {
     "autoexec": {
      "startup": false,
      "wait_interval": 0
     }
    },
    "colab_type": "code",
    "id": "-DnxfOkC75Nw"
   },
   "outputs": [],
   "source": [
    "if __name__ == '__main__':\n",
    "    \n",
    "    import csv;\n",
    "    import numpy as np;\n",
    "    import sklearn.metrics;\n",
    "    from sklearn.model_selection import train_test_split;\n",
    "    \n",
    "    file_d = open('new_dataset.csv', 'r');\n",
    "    readl = csv.reader(file_d);\n",
    "    \n",
    "    data = []; target = [];\n",
    "    \n",
    "    for row in readl:\n",
    "        data.append(row[0:-1]);\n",
    "        target.append(row[-1]);\n",
    "\n",
    "    train_in, test_in, train_out, test_out = sklearn.model_selection.train_test_split(data, target);\n",
    "    \n",
    "    popn = 100;\n",
    "    \n",
    "    n_net_pop = [];\n",
    "    \n",
    "    nodes = [len(train_in[0]), 8, 4, 1];\n",
    "    \n",
    "    for i in range(0, popn):\n",
    "        nn = NeuralNetwork(nodes);\n",
    "        nn.setData(train_in, train_out);\n",
    "        n_net_pop.append(nn);\n",
    "    \n",
    "    pso = ParticleSwarmOptimiser(n_net_pop);\n",
    "    \n",
    "    i=0;\n",
    "    best_val = [[i, pso.best_fit]];\n",
    "    print([i,pso.best_fit]);\n",
    "    while i < 500 and pso.best_fit > 1e-6:\n",
    "        pso.optimise();\n",
    "        i=i+1;\n",
    "        if pso.best_fit < best_val[-1][1]:\n",
    "            best_val.append([i, pso.best_fit]);\n",
    "            print([i, pso.best_fit]);\n",
    "    \n",
    "    best_weight = pso.g_best;\n",
    "    best_nn = NeuralNetwork(nodes);\n",
    "    best_nn.setWeights(best_weight);\n",
    "    \n",
    "    predict_out = [];\n",
    "    for i in range(0, len(test_out)):\n",
    "        predict_out.append(best_nn.propagate(test_in[i]));\n",
    "    \n",
    "    print (sklearn.metrics.classification_report(test_out, predict_out));"
   ]
  },
  {
   "cell_type": "code",
   "execution_count": 8,
   "metadata": {
    "colab": {
     "autoexec": {
      "startup": false,
      "wait_interval": 0
     },
     "base_uri": "https://localhost:8080/",
     "height": 35,
     "output_extras": [
      {
       "item_id": 1
      }
     ]
    },
    "colab_type": "code",
    "executionInfo": {
     "elapsed": 2602,
     "status": "ok",
     "timestamp": 1522147792211,
     "user": {
      "displayName": "Rithesh K",
      "photoUrl": "//lh5.googleusercontent.com/-qDYcAwPq0WY/AAAAAAAAAAI/AAAAAAAAACE/iEjlpvN8gKk/s50-c-k-no/photo.jpg",
      "userId": "114199725330729875933"
     },
     "user_tz": -330
    },
    "id": "JEZtVVCdIMIp",
    "outputId": "06258735-eb14-4b2a-aea2-9cd415f4a795"
   },
   "outputs": [
    {
     "name": "stdout",
     "output_type": "stream",
     "text": [
      "datalab  new_dataset.csv\r\n"
     ]
    }
   ],
   "source": [
    "!mv new_database.csv new_dataset.csv\n",
    "!ls"
   ]
  }
 ],
 "metadata": {
  "colab": {
   "default_view": {},
   "name": "new_ANN_PSO.ipynb",
   "provenance": [],
   "version": "0.3.2",
   "views": {}
  },
  "kernelspec": {
   "display_name": "Python 3",
   "language": "python",
   "name": "python3"
  },
  "language_info": {
   "codemirror_mode": {
    "name": "ipython",
    "version": 3
   },
   "file_extension": ".py",
   "mimetype": "text/x-python",
   "name": "python",
   "nbconvert_exporter": "python",
   "pygments_lexer": "ipython3",
   "version": "3.5.2"
  }
 },
 "nbformat": 4,
 "nbformat_minor": 1
}
